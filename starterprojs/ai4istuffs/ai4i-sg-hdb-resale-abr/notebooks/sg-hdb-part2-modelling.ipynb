{
 "cells": [
  {
   "cell_type": "markdown",
   "metadata": {},
   "source": [
    "<img src=\"https://gallery.mailchimp.com/f98d5ac0a3fbbdcdda35136ab/images/2002af76-5fd4-4185-9d49-28558b6b8772.png\">"
   ]
  },
  {
   "cell_type": "markdown",
   "metadata": {},
   "source": [
    "# `sg-hdb-resale-abr` \n",
    "# Part 2: Model Training\n",
    "What we have done so far is to extract data from the .csv files, do some preliminary transformation to the data, and then loading all of it into an SQLite database. The next step is to work towards creating a simple predictive model for us to predict the price of a resale HDB unit. The following cells will have us load data from the SQLite database, that we have previously created."
   ]
  },
  {
   "cell_type": "code",
   "execution_count": 1,
   "metadata": {},
   "outputs": [],
   "source": [
    "# Import relevant packages\n",
    "import pandas as pd\n",
    "from sqlalchemy import create_engine"
   ]
  },
  {
   "cell_type": "code",
   "execution_count": 3,
   "metadata": {},
   "outputs": [],
   "source": [
    "# Initialise engine\n",
    "sql_engine = create_engine('sqlite:///../data/processed/sg_hdb.db')\n",
    "# Simple query to get the whole table\n",
    "query = \"SELECT * FROM sg_hdb_resale\"\n",
    "# Store result of query in a pandas dataframe\n",
    "sg_hdb_resale_df = pd.read_sql_query(query,sql_engine)"
   ]
  },
  {
   "cell_type": "code",
   "execution_count": null,
   "metadata": {},
   "outputs": [],
   "source": [
    "# NOTE: If the cell above did not work for you, you can uncomment the following lines to query from a database that has been prepared beforehand\n",
    "# sql_engine = create_engine('sqlite:///../reference/sg_hdb.db')\n",
    "# query = \"SELECT * FROM sg_hdb_resale\"\n",
    "# sg_hdb_resale_df = pd.read_sql_query(query, sql_engine)"
   ]
  },
  {
   "cell_type": "code",
   "execution_count": 4,
   "metadata": {},
   "outputs": [
    {
     "data": {
      "text/html": [
       "<div>\n",
       "<style scoped>\n",
       "    .dataframe tbody tr th:only-of-type {\n",
       "        vertical-align: middle;\n",
       "    }\n",
       "\n",
       "    .dataframe tbody tr th {\n",
       "        vertical-align: top;\n",
       "    }\n",
       "\n",
       "    .dataframe thead th {\n",
       "        text-align: right;\n",
       "    }\n",
       "</style>\n",
       "<table border=\"1\" class=\"dataframe\">\n",
       "  <thead>\n",
       "    <tr style=\"text-align: right;\">\n",
       "      <th></th>\n",
       "      <th>id</th>\n",
       "      <th>block</th>\n",
       "      <th>flat_model</th>\n",
       "      <th>flat_type</th>\n",
       "      <th>floor_area_sqm</th>\n",
       "      <th>lease_commence_date</th>\n",
       "      <th>month</th>\n",
       "      <th>remaining_lease</th>\n",
       "      <th>resale_price</th>\n",
       "      <th>storey_range</th>\n",
       "      <th>street_name</th>\n",
       "      <th>town</th>\n",
       "    </tr>\n",
       "  </thead>\n",
       "  <tbody>\n",
       "    <tr>\n",
       "      <th>0</th>\n",
       "      <td>0</td>\n",
       "      <td>216</td>\n",
       "      <td>new generation</td>\n",
       "      <td>3 ROOM</td>\n",
       "      <td>73.0</td>\n",
       "      <td>1976</td>\n",
       "      <td>2000-01</td>\n",
       "      <td>0</td>\n",
       "      <td>159000.0</td>\n",
       "      <td>07 TO 09</td>\n",
       "      <td>ANG MO KIO AVE 1</td>\n",
       "      <td>ANG MO KIO</td>\n",
       "    </tr>\n",
       "    <tr>\n",
       "      <th>1</th>\n",
       "      <td>1</td>\n",
       "      <td>215</td>\n",
       "      <td>new generation</td>\n",
       "      <td>3 ROOM</td>\n",
       "      <td>73.0</td>\n",
       "      <td>1976</td>\n",
       "      <td>2000-01</td>\n",
       "      <td>0</td>\n",
       "      <td>167000.0</td>\n",
       "      <td>07 TO 09</td>\n",
       "      <td>ANG MO KIO AVE 1</td>\n",
       "      <td>ANG MO KIO</td>\n",
       "    </tr>\n",
       "    <tr>\n",
       "      <th>2</th>\n",
       "      <td>2</td>\n",
       "      <td>218</td>\n",
       "      <td>new generation</td>\n",
       "      <td>3 ROOM</td>\n",
       "      <td>67.0</td>\n",
       "      <td>1976</td>\n",
       "      <td>2000-01</td>\n",
       "      <td>0</td>\n",
       "      <td>163000.0</td>\n",
       "      <td>07 TO 09</td>\n",
       "      <td>ANG MO KIO AVE 1</td>\n",
       "      <td>ANG MO KIO</td>\n",
       "    </tr>\n",
       "    <tr>\n",
       "      <th>3</th>\n",
       "      <td>3</td>\n",
       "      <td>304</td>\n",
       "      <td>new generation</td>\n",
       "      <td>4 ROOM</td>\n",
       "      <td>97.0</td>\n",
       "      <td>1977</td>\n",
       "      <td>2000-01</td>\n",
       "      <td>0</td>\n",
       "      <td>260000.0</td>\n",
       "      <td>04 TO 06</td>\n",
       "      <td>ANG MO KIO AVE 1</td>\n",
       "      <td>ANG MO KIO</td>\n",
       "    </tr>\n",
       "    <tr>\n",
       "      <th>4</th>\n",
       "      <td>4</td>\n",
       "      <td>221</td>\n",
       "      <td>improved</td>\n",
       "      <td>5 ROOM</td>\n",
       "      <td>127.0</td>\n",
       "      <td>1993</td>\n",
       "      <td>2000-01</td>\n",
       "      <td>0</td>\n",
       "      <td>408000.0</td>\n",
       "      <td>10 TO 12</td>\n",
       "      <td>ANG MO KIO AVE 1</td>\n",
       "      <td>ANG MO KIO</td>\n",
       "    </tr>\n",
       "    <tr>\n",
       "      <th>...</th>\n",
       "      <td>...</td>\n",
       "      <td>...</td>\n",
       "      <td>...</td>\n",
       "      <td>...</td>\n",
       "      <td>...</td>\n",
       "      <td>...</td>\n",
       "      <td>...</td>\n",
       "      <td>...</td>\n",
       "      <td>...</td>\n",
       "      <td>...</td>\n",
       "      <td>...</td>\n",
       "      <td>...</td>\n",
       "    </tr>\n",
       "    <tr>\n",
       "      <th>790638</th>\n",
       "      <td>790638</td>\n",
       "      <td>611</td>\n",
       "      <td>apartment</td>\n",
       "      <td>EXECUTIVE</td>\n",
       "      <td>142.0</td>\n",
       "      <td>1987</td>\n",
       "      <td>1999-12</td>\n",
       "      <td>0</td>\n",
       "      <td>456000.0</td>\n",
       "      <td>10 TO 12</td>\n",
       "      <td>YISHUN ST 61</td>\n",
       "      <td>YISHUN</td>\n",
       "    </tr>\n",
       "    <tr>\n",
       "      <th>790639</th>\n",
       "      <td>790639</td>\n",
       "      <td>324</td>\n",
       "      <td>apartment</td>\n",
       "      <td>EXECUTIVE</td>\n",
       "      <td>142.0</td>\n",
       "      <td>1988</td>\n",
       "      <td>1999-12</td>\n",
       "      <td>0</td>\n",
       "      <td>408000.0</td>\n",
       "      <td>01 TO 03</td>\n",
       "      <td>YISHUN CTRL</td>\n",
       "      <td>YISHUN</td>\n",
       "    </tr>\n",
       "    <tr>\n",
       "      <th>790640</th>\n",
       "      <td>790640</td>\n",
       "      <td>392</td>\n",
       "      <td>maisonette</td>\n",
       "      <td>EXECUTIVE</td>\n",
       "      <td>146.0</td>\n",
       "      <td>1988</td>\n",
       "      <td>1999-12</td>\n",
       "      <td>0</td>\n",
       "      <td>469000.0</td>\n",
       "      <td>07 TO 09</td>\n",
       "      <td>YISHUN AVE 6</td>\n",
       "      <td>YISHUN</td>\n",
       "    </tr>\n",
       "    <tr>\n",
       "      <th>790641</th>\n",
       "      <td>790641</td>\n",
       "      <td>356</td>\n",
       "      <td>maisonette</td>\n",
       "      <td>EXECUTIVE</td>\n",
       "      <td>146.0</td>\n",
       "      <td>1988</td>\n",
       "      <td>1999-12</td>\n",
       "      <td>0</td>\n",
       "      <td>440000.0</td>\n",
       "      <td>04 TO 06</td>\n",
       "      <td>YISHUN RING RD</td>\n",
       "      <td>YISHUN</td>\n",
       "    </tr>\n",
       "    <tr>\n",
       "      <th>790642</th>\n",
       "      <td>790642</td>\n",
       "      <td>358</td>\n",
       "      <td>maisonette</td>\n",
       "      <td>EXECUTIVE</td>\n",
       "      <td>145.0</td>\n",
       "      <td>1988</td>\n",
       "      <td>1999-12</td>\n",
       "      <td>0</td>\n",
       "      <td>484000.0</td>\n",
       "      <td>01 TO 03</td>\n",
       "      <td>YISHUN RING RD</td>\n",
       "      <td>YISHUN</td>\n",
       "    </tr>\n",
       "  </tbody>\n",
       "</table>\n",
       "<p>790643 rows × 12 columns</p>\n",
       "</div>"
      ],
      "text/plain": [
       "            id block      flat_model  flat_type  floor_area_sqm  \\\n",
       "0            0   216  new generation     3 ROOM            73.0   \n",
       "1            1   215  new generation     3 ROOM            73.0   \n",
       "2            2   218  new generation     3 ROOM            67.0   \n",
       "3            3   304  new generation     4 ROOM            97.0   \n",
       "4            4   221        improved     5 ROOM           127.0   \n",
       "...        ...   ...             ...        ...             ...   \n",
       "790638  790638   611       apartment  EXECUTIVE           142.0   \n",
       "790639  790639   324       apartment  EXECUTIVE           142.0   \n",
       "790640  790640   392      maisonette  EXECUTIVE           146.0   \n",
       "790641  790641   356      maisonette  EXECUTIVE           146.0   \n",
       "790642  790642   358      maisonette  EXECUTIVE           145.0   \n",
       "\n",
       "        lease_commence_date    month  remaining_lease  resale_price  \\\n",
       "0                      1976  2000-01                0      159000.0   \n",
       "1                      1976  2000-01                0      167000.0   \n",
       "2                      1976  2000-01                0      163000.0   \n",
       "3                      1977  2000-01                0      260000.0   \n",
       "4                      1993  2000-01                0      408000.0   \n",
       "...                     ...      ...              ...           ...   \n",
       "790638                 1987  1999-12                0      456000.0   \n",
       "790639                 1988  1999-12                0      408000.0   \n",
       "790640                 1988  1999-12                0      469000.0   \n",
       "790641                 1988  1999-12                0      440000.0   \n",
       "790642                 1988  1999-12                0      484000.0   \n",
       "\n",
       "       storey_range       street_name        town  \n",
       "0          07 TO 09  ANG MO KIO AVE 1  ANG MO KIO  \n",
       "1          07 TO 09  ANG MO KIO AVE 1  ANG MO KIO  \n",
       "2          07 TO 09  ANG MO KIO AVE 1  ANG MO KIO  \n",
       "3          04 TO 06  ANG MO KIO AVE 1  ANG MO KIO  \n",
       "4          10 TO 12  ANG MO KIO AVE 1  ANG MO KIO  \n",
       "...             ...               ...         ...  \n",
       "790638     10 TO 12      YISHUN ST 61      YISHUN  \n",
       "790639     01 TO 03       YISHUN CTRL      YISHUN  \n",
       "790640     07 TO 09      YISHUN AVE 6      YISHUN  \n",
       "790641     04 TO 06    YISHUN RING RD      YISHUN  \n",
       "790642     01 TO 03    YISHUN RING RD      YISHUN  \n",
       "\n",
       "[790643 rows x 12 columns]"
      ]
     },
     "execution_count": 4,
     "metadata": {},
     "output_type": "execute_result"
    }
   ],
   "source": [
    "# Observe result of query executed\n",
    "sg_hdb_resale_df"
   ]
  },
  {
   "cell_type": "markdown",
   "metadata": {},
   "source": [
    "We are first going to inspect the data types of the imported dataframe."
   ]
  },
  {
   "cell_type": "code",
   "execution_count": 7,
   "metadata": {},
   "outputs": [
    {
     "data": {
      "text/plain": [
       "id                       int64\n",
       "block                   object\n",
       "flat_model              object\n",
       "flat_type               object\n",
       "floor_area_sqm         float64\n",
       "lease_commence_date      int64\n",
       "month                   object\n",
       "remaining_lease          int64\n",
       "resale_price           float64\n",
       "storey_range            object\n",
       "street_name             object\n",
       "town                    object\n",
       "dtype: object"
      ]
     },
     "execution_count": 7,
     "metadata": {},
     "output_type": "execute_result"
    }
   ],
   "source": [
    "sg_hdb_resale_df.dtypes"
   ]
  },
  {
   "cell_type": "markdown",
   "metadata": {},
   "source": [
    "Now, we create 2 separate series containing the predictor and response values to train our model on."
   ]
  },
  {
   "cell_type": "code",
   "execution_count": 10,
   "metadata": {},
   "outputs": [],
   "source": [
    "sg_hdb_x = sg_hdb_resale_df['floor_area_sqm'].values\n",
    "sg_hdb_y = sg_hdb_resale_df['resale_price'].values"
   ]
  },
  {
   "cell_type": "code",
   "execution_count": null,
   "metadata": {},
   "outputs": [],
   "source": [
    "# Import the relevant packages\n",
    "import numpy as np\n",
    "import sklearn\n",
    "from sklearn import model_selection\n",
    "from sklearn.linear_model import LinearRegression\n",
    "from sklearn.metrics import mean_squared_error, r2_score\n",
    "import pickle"
   ]
  },
  {
   "cell_type": "markdown",
   "metadata": {},
   "source": [
    "When training a model, we have to create a train-test split to check the accuracy/performance of the model."
   ]
  },
  {
   "cell_type": "code",
   "execution_count": 13,
   "metadata": {},
   "outputs": [],
   "source": [
    "import numpy as np\n",
    "import sklearn\n",
    "\n",
    "from sklearn import model_selection\n",
    "from sklearn.linear_model import LinearRegression\n",
    "from sklearn.metrics import mean_squared_error, r2_score\n",
    "\n",
    "# Pickle in Python is primarily used in serializing and deserializing a Python object structure. In other words, it's the process of converting a Python object into a byte stream to store it in a file/database, maintain program state across sessions, or transport data over the network.\n",
    "import pickle "
   ]
  },
  {
   "cell_type": "code",
   "execution_count": 16,
   "metadata": {},
   "outputs": [],
   "source": [
    "sg_hdb_x_train, sg_hdb_x_test, sg_hdb_y_train, sg_hdb_y_test = sklearn.model_selection.train_test_split(\n",
    "    sg_hdb_x, sg_hdb_y,\n",
    "    test_size=0.3,random_state=7\n",
    ")"
   ]
  },
  {
   "cell_type": "code",
   "execution_count": 19,
   "metadata": {},
   "outputs": [],
   "source": [
    "# Reshaping needed when using a single variable for predictor\n",
    "\n",
    "# The above is consistent with numpy advice/error message, to use reshape(-1,1) for a single feature; i.e. single column\n",
    "\n",
    "#     Reshape your data using array.reshape(-1, 1) if your data has a single feature\n",
    "\n",
    "sg_hdb_x_train = sg_hdb_x_train.reshape(-1,1)\n",
    "sg_hdb_x_test = sg_hdb_x_test.reshape(-1,1)\n"
   ]
  },
  {
   "cell_type": "markdown",
   "metadata": {},
   "source": [
    "We are gonna create a simple linear regression model (a.k.a best fit line) from the dataset."
   ]
  },
  {
   "cell_type": "code",
   "execution_count": 20,
   "metadata": {},
   "outputs": [
    {
     "data": {
      "text/plain": [
       "LinearRegression(copy_X=True, fit_intercept=True, n_jobs=1, normalize=False)"
      ]
     },
     "execution_count": 20,
     "metadata": {},
     "output_type": "execute_result"
    }
   ],
   "source": [
    "# Initialise model\n",
    "lm = LinearRegression()\n",
    "# Create model from the train sets\n",
    "lm.fit(sg_hdb_x_train, sg_hdb_y_train)"
   ]
  },
  {
   "cell_type": "code",
   "execution_count": 21,
   "metadata": {},
   "outputs": [
    {
     "name": "stdout",
     "output_type": "stream",
     "text": [
      "Coefficient: \n",
      " X: [3517.23969499] \n",
      " c:  -49306.87348512688\n"
     ]
    }
   ],
   "source": [
    "# To observe the model's coefficients\n",
    "print('Coefficient: \\n X:', lm.coef_, '\\n c: ', lm.intercept_)"
   ]
  },
  {
   "cell_type": "markdown",
   "metadata": {},
   "source": [
    "Y = mX + C"
   ]
  },
  {
   "cell_type": "markdown",
   "metadata": {},
   "source": [
    "After creating the model, we are going to evaluate its performance by pitting it against the test set.\n",
    "\n",
    "First, we use the linear model to provide us with the predictions derived from the values in the test set."
   ]
  },
  {
   "cell_type": "code",
   "execution_count": 22,
   "metadata": {},
   "outputs": [
    {
     "data": {
      "text/plain": [
       "array([298899.856319  , 277796.41814905, 246141.26089413, ...,\n",
       "       147658.54943438, 189865.42577427, 327037.77387893])"
      ]
     },
     "execution_count": 22,
     "metadata": {},
     "output_type": "execute_result"
    }
   ],
   "source": [
    "sg_hdb_y_pred = lm.predict(sg_hdb_x_test)\n",
    "sg_hdb_y_pred\n"
   ]
  },
  {
   "cell_type": "markdown",
   "metadata": {},
   "source": [
    "Thereafter, we are going to calculate the errors, pitting the predicted values with actual historical values."
   ]
  },
  {
   "cell_type": "code",
   "execution_count": 23,
   "metadata": {},
   "outputs": [
    {
     "data": {
      "text/plain": [
       "0.3983775602167309"
      ]
     },
     "execution_count": 23,
     "metadata": {},
     "output_type": "execute_result"
    }
   ],
   "source": [
    "# Examine fitness of model\n",
    "r2_score(sg_hdb_y_test,sg_hdb_y_pred)"
   ]
  },
  {
   "cell_type": "markdown",
   "metadata": {},
   "source": [
    "Well, we did little to create a good model, hence the low value of fitness.\n",
    "\n",
    "For the sake of this exercise, let us just proceed and export (serialise) this model for deployment. Save the model under a name, for example like the one below: 'sg_hdb_lm_v1.pkl'"
   ]
  },
  {
   "cell_type": "code",
   "execution_count": 24,
   "metadata": {},
   "outputs": [],
   "source": [
    "# Specify output location of model to be serialised\n",
    "file_loc_name ='../models/sg_hdb_1m_v1.pkl'\n",
    "pickle.dump(lm,open(file_loc_name,'wb'))"
   ]
  },
  {
   "cell_type": "markdown",
   "metadata": {},
   "source": [
    "Here, we just do a quick test by loading the model and then doing a single prediction to it."
   ]
  },
  {
   "cell_type": "code",
   "execution_count": 25,
   "metadata": {},
   "outputs": [
    {
     "name": "stdout",
     "output_type": "stream",
     "text": [
      "[172279.22729932]\n"
     ]
    }
   ],
   "source": [
    "# Test loading saved model\n",
    "loaded_model=pickle.load(open(file_loc_name,'rb'))\n",
    "# Create a test value for test prediction\n",
    "# Test value has to be contained in a numpy array format hence np.array\n",
    "test_val = np.array(63)\n",
    "# Reshaping value before feeding to .predict function\n",
    "test_val_reshape=test_val.reshape(-1,1)\n",
    "# Conduct prediction\n",
    "result = loaded_model.predict(test_val_reshape)\n",
    "# Print out result\n",
    "print(result)\n"
   ]
  },
  {
   "cell_type": "markdown",
   "metadata": {},
   "source": [
    "Now that we have exported this model, time to create a simple API (Application Programming Interface) that allows us to use the model, potentially remotely. On to [deployment](./sg-hdb-part3-basic-deployment.ipynb)!"
   ]
  }
 ],
 "metadata": {
  "kernelspec": {
   "display_name": "Python 3",
   "language": "python",
   "name": "python3"
  },
  "language_info": {
   "codemirror_mode": {
    "name": "ipython",
    "version": 3
   },
   "file_extension": ".py",
   "mimetype": "text/x-python",
   "name": "python",
   "nbconvert_exporter": "python",
   "pygments_lexer": "ipython3",
   "version": "3.6.9"
  }
 },
 "nbformat": 4,
 "nbformat_minor": 4
}
